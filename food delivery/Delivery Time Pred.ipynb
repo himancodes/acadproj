{
 "cells": [
  {
   "cell_type": "code",
   "execution_count": 29,
   "id": "13ab4282",
   "metadata": {},
   "outputs": [],
   "source": [
    "import warnings\n",
    "warnings.filterwarnings(\"ignore\")"
   ]
  },
  {
   "cell_type": "code",
   "execution_count": 30,
   "id": "d91ace75",
   "metadata": {},
   "outputs": [],
   "source": [
    "import pandas as pd\n",
    "import numpy as np\n",
    "import matplotlib.pyplot as plt\n",
    "import seaborn as sns\n",
    "\n",
    "from sklearn.linear_model import LinearRegression, Lasso, Ridge\n",
    "from sklearn.metrics import mean_absolute_percentage_error as mape\n",
    "from sklearn.metrics import mean_squared_error\n",
    "from sklearn.model_selection import train_test_split\n",
    "from sklearn.preprocessing import OneHotEncoder, MinMaxScaler\n",
    "from sklearn.feature_selection import RFE\n",
    "from sklearn.ensemble import RandomForestRegressor"
   ]
  },
  {
   "cell_type": "code",
   "execution_count": 31,
   "id": "fafa8a41",
   "metadata": {},
   "outputs": [],
   "source": [
    "import statsmodels.api as sm\n",
    "from statsmodels.stats.outliers_influence import variance_inflation_factor\n",
    "from sklearn.metrics import mean_absolute_percentage_error as mape"
   ]
  },
  {
   "cell_type": "code",
   "execution_count": 32,
   "id": "3d9e5409",
   "metadata": {},
   "outputs": [],
   "source": [
    "df = pd.read_csv('delivery_train.csv')"
   ]
  },
  {
   "cell_type": "code",
   "execution_count": 33,
   "id": "3ac3961a",
   "metadata": {},
   "outputs": [
    {
     "name": "stdout",
     "output_type": "stream",
     "text": [
      "<class 'pandas.core.frame.DataFrame'>\n",
      "RangeIndex: 45593 entries, 0 to 45592\n",
      "Data columns (total 20 columns):\n",
      " #   Column                       Non-Null Count  Dtype  \n",
      "---  ------                       --------------  -----  \n",
      " 0   ID                           45593 non-null  object \n",
      " 1   Delivery_person_ID           45593 non-null  object \n",
      " 2   Delivery_person_Age          45593 non-null  object \n",
      " 3   Delivery_person_Ratings      45593 non-null  object \n",
      " 4   Restaurant_latitude          45593 non-null  float64\n",
      " 5   Restaurant_longitude         45593 non-null  float64\n",
      " 6   Delivery_location_latitude   45593 non-null  float64\n",
      " 7   Delivery_location_longitude  45593 non-null  float64\n",
      " 8   Order_Date                   45593 non-null  object \n",
      " 9   Time_Orderd                  45593 non-null  object \n",
      " 10  Time_Order_picked            45593 non-null  object \n",
      " 11  Weatherconditions            45593 non-null  object \n",
      " 12  Road_traffic_density         45593 non-null  object \n",
      " 13  Vehicle_condition            45593 non-null  int64  \n",
      " 14  Type_of_order                45593 non-null  object \n",
      " 15  Type_of_vehicle              45593 non-null  object \n",
      " 16  multiple_deliveries          45593 non-null  object \n",
      " 17  Festival                     45593 non-null  object \n",
      " 18  City                         45593 non-null  object \n",
      " 19  Time_taken(min)              45593 non-null  object \n",
      "dtypes: float64(4), int64(1), object(15)\n",
      "memory usage: 7.0+ MB\n"
     ]
    }
   ],
   "source": [
    "df.info()"
   ]
  },
  {
   "cell_type": "code",
   "execution_count": 34,
   "id": "c905bcb6",
   "metadata": {},
   "outputs": [
    {
     "data": {
      "text/plain": [
       "(45593, 20)"
      ]
     },
     "execution_count": 34,
     "metadata": {},
     "output_type": "execute_result"
    }
   ],
   "source": [
    "df.shape"
   ]
  },
  {
   "cell_type": "code",
   "execution_count": 35,
   "id": "8623a0a6",
   "metadata": {},
   "outputs": [
    {
     "data": {
      "text/html": [
       "<div>\n",
       "<style scoped>\n",
       "    .dataframe tbody tr th:only-of-type {\n",
       "        vertical-align: middle;\n",
       "    }\n",
       "\n",
       "    .dataframe tbody tr th {\n",
       "        vertical-align: top;\n",
       "    }\n",
       "\n",
       "    .dataframe thead th {\n",
       "        text-align: right;\n",
       "    }\n",
       "</style>\n",
       "<table border=\"1\" class=\"dataframe\">\n",
       "  <thead>\n",
       "    <tr style=\"text-align: right;\">\n",
       "      <th></th>\n",
       "      <th>count</th>\n",
       "      <th>unique</th>\n",
       "      <th>top</th>\n",
       "      <th>freq</th>\n",
       "    </tr>\n",
       "  </thead>\n",
       "  <tbody>\n",
       "    <tr>\n",
       "      <th>ID</th>\n",
       "      <td>45593</td>\n",
       "      <td>45593</td>\n",
       "      <td>0x4607</td>\n",
       "      <td>1</td>\n",
       "    </tr>\n",
       "    <tr>\n",
       "      <th>Delivery_person_ID</th>\n",
       "      <td>45593</td>\n",
       "      <td>1320</td>\n",
       "      <td>PUNERES01DEL01</td>\n",
       "      <td>67</td>\n",
       "    </tr>\n",
       "    <tr>\n",
       "      <th>Delivery_person_Age</th>\n",
       "      <td>45593</td>\n",
       "      <td>23</td>\n",
       "      <td>35</td>\n",
       "      <td>2262</td>\n",
       "    </tr>\n",
       "    <tr>\n",
       "      <th>Delivery_person_Ratings</th>\n",
       "      <td>45593</td>\n",
       "      <td>29</td>\n",
       "      <td>4.8</td>\n",
       "      <td>7148</td>\n",
       "    </tr>\n",
       "    <tr>\n",
       "      <th>Order_Date</th>\n",
       "      <td>45593</td>\n",
       "      <td>44</td>\n",
       "      <td>15-03-2022</td>\n",
       "      <td>1192</td>\n",
       "    </tr>\n",
       "    <tr>\n",
       "      <th>Time_Orderd</th>\n",
       "      <td>45593</td>\n",
       "      <td>177</td>\n",
       "      <td>NaN</td>\n",
       "      <td>1731</td>\n",
       "    </tr>\n",
       "    <tr>\n",
       "      <th>Time_Order_picked</th>\n",
       "      <td>45593</td>\n",
       "      <td>193</td>\n",
       "      <td>21:30:00</td>\n",
       "      <td>496</td>\n",
       "    </tr>\n",
       "    <tr>\n",
       "      <th>Weatherconditions</th>\n",
       "      <td>45593</td>\n",
       "      <td>7</td>\n",
       "      <td>conditions Fog</td>\n",
       "      <td>7654</td>\n",
       "    </tr>\n",
       "    <tr>\n",
       "      <th>Road_traffic_density</th>\n",
       "      <td>45593</td>\n",
       "      <td>5</td>\n",
       "      <td>Low</td>\n",
       "      <td>15477</td>\n",
       "    </tr>\n",
       "    <tr>\n",
       "      <th>Type_of_order</th>\n",
       "      <td>45593</td>\n",
       "      <td>4</td>\n",
       "      <td>Snack</td>\n",
       "      <td>11533</td>\n",
       "    </tr>\n",
       "    <tr>\n",
       "      <th>Type_of_vehicle</th>\n",
       "      <td>45593</td>\n",
       "      <td>4</td>\n",
       "      <td>motorcycle</td>\n",
       "      <td>26435</td>\n",
       "    </tr>\n",
       "    <tr>\n",
       "      <th>multiple_deliveries</th>\n",
       "      <td>45593</td>\n",
       "      <td>5</td>\n",
       "      <td>1</td>\n",
       "      <td>28159</td>\n",
       "    </tr>\n",
       "    <tr>\n",
       "      <th>Festival</th>\n",
       "      <td>45593</td>\n",
       "      <td>3</td>\n",
       "      <td>No</td>\n",
       "      <td>44469</td>\n",
       "    </tr>\n",
       "    <tr>\n",
       "      <th>City</th>\n",
       "      <td>45593</td>\n",
       "      <td>4</td>\n",
       "      <td>Metropolitian</td>\n",
       "      <td>34093</td>\n",
       "    </tr>\n",
       "    <tr>\n",
       "      <th>Time_taken(min)</th>\n",
       "      <td>45593</td>\n",
       "      <td>45</td>\n",
       "      <td>(min) 26</td>\n",
       "      <td>2123</td>\n",
       "    </tr>\n",
       "  </tbody>\n",
       "</table>\n",
       "</div>"
      ],
      "text/plain": [
       "                         count unique              top   freq\n",
       "ID                       45593  45593          0x4607       1\n",
       "Delivery_person_ID       45593   1320  PUNERES01DEL01      67\n",
       "Delivery_person_Age      45593     23               35   2262\n",
       "Delivery_person_Ratings  45593     29              4.8   7148\n",
       "Order_Date               45593     44       15-03-2022   1192\n",
       "Time_Orderd              45593    177             NaN    1731\n",
       "Time_Order_picked        45593    193         21:30:00    496\n",
       "Weatherconditions        45593      7   conditions Fog   7654\n",
       "Road_traffic_density     45593      5             Low   15477\n",
       "Type_of_order            45593      4           Snack   11533\n",
       "Type_of_vehicle          45593      4      motorcycle   26435\n",
       "multiple_deliveries      45593      5                1  28159\n",
       "Festival                 45593      3              No   44469\n",
       "City                     45593      4   Metropolitian   34093\n",
       "Time_taken(min)          45593     45         (min) 26   2123"
      ]
     },
     "execution_count": 35,
     "metadata": {},
     "output_type": "execute_result"
    }
   ],
   "source": [
    "df.describe(exclude=np.number).T"
   ]
  },
  {
   "cell_type": "code",
   "execution_count": 36,
   "id": "94c0b25e",
   "metadata": {},
   "outputs": [],
   "source": [
    "df.rename(columns={'Weatherconditions': 'Weather_conditions'},inplace=True)\n",
    "df.rename(columns={'City': 'city_type'},inplace=True)"
   ]
  },
  {
   "cell_type": "code",
   "execution_count": 37,
   "id": "76c7d598",
   "metadata": {},
   "outputs": [
    {
     "data": {
      "text/html": [
       "<div>\n",
       "<style scoped>\n",
       "    .dataframe tbody tr th:only-of-type {\n",
       "        vertical-align: middle;\n",
       "    }\n",
       "\n",
       "    .dataframe tbody tr th {\n",
       "        vertical-align: top;\n",
       "    }\n",
       "\n",
       "    .dataframe thead th {\n",
       "        text-align: right;\n",
       "    }\n",
       "</style>\n",
       "<table border=\"1\" class=\"dataframe\">\n",
       "  <thead>\n",
       "    <tr style=\"text-align: right;\">\n",
       "      <th></th>\n",
       "      <th>ID</th>\n",
       "      <th>Delivery_person_ID</th>\n",
       "      <th>Delivery_person_Age</th>\n",
       "      <th>Delivery_person_Ratings</th>\n",
       "      <th>Restaurant_latitude</th>\n",
       "      <th>Restaurant_longitude</th>\n",
       "      <th>Delivery_location_latitude</th>\n",
       "      <th>Delivery_location_longitude</th>\n",
       "      <th>Order_Date</th>\n",
       "      <th>Time_Orderd</th>\n",
       "      <th>...</th>\n",
       "      <th>Weather_conditions</th>\n",
       "      <th>Road_traffic_density</th>\n",
       "      <th>Vehicle_condition</th>\n",
       "      <th>Type_of_order</th>\n",
       "      <th>Type_of_vehicle</th>\n",
       "      <th>multiple_deliveries</th>\n",
       "      <th>Festival</th>\n",
       "      <th>city_type</th>\n",
       "      <th>Time_taken(min)</th>\n",
       "      <th>City_code</th>\n",
       "    </tr>\n",
       "  </thead>\n",
       "  <tbody>\n",
       "    <tr>\n",
       "      <th>0</th>\n",
       "      <td>0x4607</td>\n",
       "      <td>INDORES13DEL02</td>\n",
       "      <td>37</td>\n",
       "      <td>4.9</td>\n",
       "      <td>22.745049</td>\n",
       "      <td>75.892471</td>\n",
       "      <td>22.765049</td>\n",
       "      <td>75.912471</td>\n",
       "      <td>19-03-2022</td>\n",
       "      <td>11:30:00</td>\n",
       "      <td>...</td>\n",
       "      <td>Sunny</td>\n",
       "      <td>High</td>\n",
       "      <td>2</td>\n",
       "      <td>Snack</td>\n",
       "      <td>motorcycle</td>\n",
       "      <td>0</td>\n",
       "      <td>No</td>\n",
       "      <td>Urban</td>\n",
       "      <td>24</td>\n",
       "      <td>INDO</td>\n",
       "    </tr>\n",
       "    <tr>\n",
       "      <th>1</th>\n",
       "      <td>0xb379</td>\n",
       "      <td>BANGRES18DEL02</td>\n",
       "      <td>34</td>\n",
       "      <td>4.5</td>\n",
       "      <td>12.913041</td>\n",
       "      <td>77.683237</td>\n",
       "      <td>13.043041</td>\n",
       "      <td>77.813237</td>\n",
       "      <td>25-03-2022</td>\n",
       "      <td>19:45:00</td>\n",
       "      <td>...</td>\n",
       "      <td>Stormy</td>\n",
       "      <td>Jam</td>\n",
       "      <td>2</td>\n",
       "      <td>Snack</td>\n",
       "      <td>scooter</td>\n",
       "      <td>1</td>\n",
       "      <td>No</td>\n",
       "      <td>Metropolitian</td>\n",
       "      <td>33</td>\n",
       "      <td>BANG</td>\n",
       "    </tr>\n",
       "    <tr>\n",
       "      <th>2</th>\n",
       "      <td>0x5d6d</td>\n",
       "      <td>BANGRES19DEL01</td>\n",
       "      <td>23</td>\n",
       "      <td>4.4</td>\n",
       "      <td>12.914264</td>\n",
       "      <td>77.678400</td>\n",
       "      <td>12.924264</td>\n",
       "      <td>77.688400</td>\n",
       "      <td>19-03-2022</td>\n",
       "      <td>08:30:00</td>\n",
       "      <td>...</td>\n",
       "      <td>Sandstorms</td>\n",
       "      <td>Low</td>\n",
       "      <td>0</td>\n",
       "      <td>Drinks</td>\n",
       "      <td>motorcycle</td>\n",
       "      <td>1</td>\n",
       "      <td>No</td>\n",
       "      <td>Urban</td>\n",
       "      <td>26</td>\n",
       "      <td>BANG</td>\n",
       "    </tr>\n",
       "    <tr>\n",
       "      <th>3</th>\n",
       "      <td>0x7a6a</td>\n",
       "      <td>COIMBRES13DEL02</td>\n",
       "      <td>38</td>\n",
       "      <td>4.7</td>\n",
       "      <td>11.003669</td>\n",
       "      <td>76.976494</td>\n",
       "      <td>11.053669</td>\n",
       "      <td>77.026494</td>\n",
       "      <td>05-04-2022</td>\n",
       "      <td>18:00:00</td>\n",
       "      <td>...</td>\n",
       "      <td>Sunny</td>\n",
       "      <td>Medium</td>\n",
       "      <td>0</td>\n",
       "      <td>Buffet</td>\n",
       "      <td>motorcycle</td>\n",
       "      <td>1</td>\n",
       "      <td>No</td>\n",
       "      <td>Metropolitian</td>\n",
       "      <td>21</td>\n",
       "      <td>COIMB</td>\n",
       "    </tr>\n",
       "    <tr>\n",
       "      <th>4</th>\n",
       "      <td>0x70a2</td>\n",
       "      <td>CHENRES12DEL01</td>\n",
       "      <td>32</td>\n",
       "      <td>4.6</td>\n",
       "      <td>12.972793</td>\n",
       "      <td>80.249982</td>\n",
       "      <td>13.012793</td>\n",
       "      <td>80.289982</td>\n",
       "      <td>26-03-2022</td>\n",
       "      <td>13:30:00</td>\n",
       "      <td>...</td>\n",
       "      <td>Cloudy</td>\n",
       "      <td>High</td>\n",
       "      <td>1</td>\n",
       "      <td>Snack</td>\n",
       "      <td>scooter</td>\n",
       "      <td>1</td>\n",
       "      <td>No</td>\n",
       "      <td>Metropolitian</td>\n",
       "      <td>30</td>\n",
       "      <td>CHEN</td>\n",
       "    </tr>\n",
       "  </tbody>\n",
       "</table>\n",
       "<p>5 rows × 21 columns</p>\n",
       "</div>"
      ],
      "text/plain": [
       "        ID Delivery_person_ID Delivery_person_Age Delivery_person_Ratings  \\\n",
       "0  0x4607     INDORES13DEL02                   37                     4.9   \n",
       "1  0xb379     BANGRES18DEL02                   34                     4.5   \n",
       "2  0x5d6d     BANGRES19DEL01                   23                     4.4   \n",
       "3  0x7a6a    COIMBRES13DEL02                   38                     4.7   \n",
       "4  0x70a2     CHENRES12DEL01                   32                     4.6   \n",
       "\n",
       "   Restaurant_latitude  Restaurant_longitude  Delivery_location_latitude  \\\n",
       "0            22.745049             75.892471                   22.765049   \n",
       "1            12.913041             77.683237                   13.043041   \n",
       "2            12.914264             77.678400                   12.924264   \n",
       "3            11.003669             76.976494                   11.053669   \n",
       "4            12.972793             80.249982                   13.012793   \n",
       "\n",
       "   Delivery_location_longitude  Order_Date Time_Orderd  ...  \\\n",
       "0                    75.912471  19-03-2022    11:30:00  ...   \n",
       "1                    77.813237  25-03-2022    19:45:00  ...   \n",
       "2                    77.688400  19-03-2022    08:30:00  ...   \n",
       "3                    77.026494  05-04-2022    18:00:00  ...   \n",
       "4                    80.289982  26-03-2022    13:30:00  ...   \n",
       "\n",
       "  Weather_conditions Road_traffic_density Vehicle_condition  Type_of_order  \\\n",
       "0              Sunny                High                  2         Snack    \n",
       "1             Stormy                 Jam                  2         Snack    \n",
       "2         Sandstorms                 Low                  0        Drinks    \n",
       "3              Sunny              Medium                  0        Buffet    \n",
       "4             Cloudy                High                  1         Snack    \n",
       "\n",
       "  Type_of_vehicle multiple_deliveries Festival       city_type  \\\n",
       "0     motorcycle                    0      No           Urban    \n",
       "1        scooter                    1      No   Metropolitian    \n",
       "2     motorcycle                    1      No           Urban    \n",
       "3     motorcycle                    1      No   Metropolitian    \n",
       "4        scooter                    1      No   Metropolitian    \n",
       "\n",
       "  Time_taken(min)  City_code  \n",
       "0              24       INDO  \n",
       "1              33       BANG  \n",
       "2              26       BANG  \n",
       "3              21      COIMB  \n",
       "4              30       CHEN  \n",
       "\n",
       "[5 rows x 21 columns]"
      ]
     },
     "execution_count": 37,
     "metadata": {},
     "output_type": "execute_result"
    }
   ],
   "source": [
    "def extract_column_values(df):\n",
    "    #Extract time and convert to int\n",
    "    df['Time_taken(min)'] = df['Time_taken(min)'].apply(lambda x: int(x.split(' ')[1].strip()))\n",
    "    #Extract Weather conditions\n",
    "    df['Weather_conditions'] = df['Weather_conditions'].apply(lambda x: x.split(' ')[1].strip())\n",
    "    #Extract city code from Delivery person ID\n",
    "    df['City_code']=df['Delivery_person_ID'].str.split(\"RES\", expand=True)[0]\n",
    "    \n",
    "extract_column_values(df)\n",
    "df.head()"
   ]
  },
  {
   "cell_type": "code",
   "execution_count": 38,
   "id": "888eee0d",
   "metadata": {},
   "outputs": [],
   "source": [
    "df.drop(['ID','Delivery_person_ID'],axis=1,inplace=True)"
   ]
  },
  {
   "cell_type": "code",
   "execution_count": 39,
   "id": "8718fdfc",
   "metadata": {},
   "outputs": [
    {
     "data": {
      "text/plain": [
       "Delivery_person_Age            1854\n",
       "Delivery_person_Ratings        1908\n",
       "Restaurant_latitude               0\n",
       "Restaurant_longitude              0\n",
       "Delivery_location_latitude        0\n",
       "Delivery_location_longitude       0\n",
       "Order_Date                        0\n",
       "Time_Orderd                    1731\n",
       "Time_Order_picked                 0\n",
       "Weather_conditions              616\n",
       "Road_traffic_density            601\n",
       "Vehicle_condition                 0\n",
       "Type_of_order                     0\n",
       "Type_of_vehicle                   0\n",
       "multiple_deliveries             993\n",
       "Festival                        228\n",
       "city_type                      1200\n",
       "Time_taken(min)                   0\n",
       "City_code                         0\n",
       "dtype: int64"
      ]
     },
     "execution_count": 39,
     "metadata": {},
     "output_type": "execute_result"
    }
   ],
   "source": [
    "#replacing 'NAN' with np.nan\n",
    "df.replace('NaN', float(np.nan), regex=True,inplace=True)     \n",
    "df.isna().sum()"
   ]
  },
  {
   "cell_type": "code",
   "execution_count": 40,
   "id": "d04b50da",
   "metadata": {},
   "outputs": [
    {
     "data": {
      "text/plain": [
       "(41368, 19)"
      ]
     },
     "execution_count": 40,
     "metadata": {},
     "output_type": "execute_result"
    }
   ],
   "source": [
    "#dropping nan values and checking for shape\n",
    "df.dropna(inplace = True)\n",
    "df.shape"
   ]
  },
  {
   "cell_type": "code",
   "execution_count": 41,
   "id": "e6ff0573",
   "metadata": {},
   "outputs": [],
   "source": [
    "#converting time date to appropriate format\n",
    "df['Order_Date']=pd.to_datetime(df['Order_Date'],format=\"%d-%m-%Y\")\n",
    "df['Time_Orderd']=pd.to_timedelta(df['Time_Orderd'])\n",
    "df['Time_Order_picked']=pd.to_timedelta(df['Time_Order_picked'])"
   ]
  },
  {
   "cell_type": "code",
   "execution_count": 42,
   "id": "d84c4bd8",
   "metadata": {},
   "outputs": [],
   "source": [
    "#Extracting order prepare time\n",
    "df['Time_Order_picked_formatted']=np.where(df['Time_Order_picked'] < df['Time_Orderd'], \n",
    "                        df['Order_Date'] + pd.DateOffset(1)+df['Time_Order_picked'], df['Order_Date']+df['Time_Order_picked'])\n",
    "df['Time_Ordered_formatted'] = df['Order_Date'] + df['Time_Orderd']\n",
    "df['prepare_time'] = (df['Time_Order_picked_formatted'] - df['Time_Ordered_formatted']).dt.total_seconds()/60"
   ]
  },
  {
   "cell_type": "code",
   "execution_count": 43,
   "id": "2b0f9322",
   "metadata": {},
   "outputs": [],
   "source": [
    "#Extracting if weekend feature\n",
    "df['day_of_week'] = df['Order_Date'].dt.day_of_week.astype(int)\n",
    "df['weekend'] = np.where(df['day_of_week'].isin([5,6]),1,0).astype('object')"
   ]
  },
  {
   "cell_type": "code",
   "execution_count": 44,
   "id": "c869ff64",
   "metadata": {},
   "outputs": [],
   "source": [
    "#Extracting if month start and month end feature\n",
    "df[\"month_start\"] = df.Order_Date.dt.is_month_start.astype(int).astype(object)\n",
    "df[\"month_end\"] = df.Order_Date.dt.is_month_end.astype(int).astype(object)"
   ]
  },
  {
   "cell_type": "code",
   "execution_count": 45,
   "id": "06d284d2",
   "metadata": {},
   "outputs": [],
   "source": [
    "#Dropping all unecessary time related columns\n",
    "df.drop(['Time_Orderd','Time_Order_picked','Time_Ordered_formatted',\n",
    "            'Time_Order_picked_formatted','day_of_week','Order_Date'],axis=1,inplace=True)"
   ]
  },
  {
   "cell_type": "code",
   "execution_count": 46,
   "id": "5ba149f3",
   "metadata": {},
   "outputs": [
    {
     "data": {
      "text/plain": [
       "(41368, 20)"
      ]
     },
     "execution_count": 46,
     "metadata": {},
     "output_type": "execute_result"
    }
   ],
   "source": [
    "df.shape"
   ]
  },
  {
   "cell_type": "code",
   "execution_count": 47,
   "id": "3365058c",
   "metadata": {},
   "outputs": [],
   "source": [
    "# Set the earth's radius (in kilometers)\n",
    "R = 6371\n",
    "\n",
    "# Convert degrees to radians\n",
    "def deg_to_rad(degrees):\n",
    "    return degrees * (np.pi/180)\n",
    "\n",
    "# Function to calculate the distance between two points using the haversine formula\n",
    "def distcalculate(lat1, lon1, lat2, lon2):\n",
    "    d_lat = deg_to_rad(lat2-lat1)\n",
    "    d_lon = deg_to_rad(lon2-lon1)\n",
    "    a = np.sin(d_lat/2)**2 + np.cos(deg_to_rad(lat1)) * np.cos(deg_to_rad(lat2)) * np.sin(d_lon/2)**2\n",
    "    c = 2 * np.arctan2(np.sqrt(a), np.sqrt(1-a))\n",
    "    return R * c"
   ]
  },
  {
   "cell_type": "code",
   "execution_count": 48,
   "id": "9a5c31ea",
   "metadata": {},
   "outputs": [],
   "source": [
    "# Calculate the distance between each pair of points\n",
    "df['distance'] = np.nan\n",
    "\n",
    "for i in range(len(df)):\n",
    "    df['distance'].iloc[i] = distcalculate(df['Restaurant_latitude'].iloc[i], df['Restaurant_longitude'].iloc[i], \n",
    "    df['Delivery_location_latitude'].iloc[i], df['Delivery_location_longitude'].iloc[i]).round(2)"
   ]
  },
  {
   "cell_type": "code",
   "execution_count": 49,
   "id": "2a4090c6",
   "metadata": {},
   "outputs": [],
   "source": [
    "#Dropping all latitude and longitude related columns\n",
    "df.drop(['Restaurant_latitude','Restaurant_longitude','Delivery_location_latitude',\n",
    "            'Delivery_location_longitude'],axis=1,inplace=True)"
   ]
  },
  {
   "cell_type": "code",
   "execution_count": 50,
   "id": "62c2b154",
   "metadata": {},
   "outputs": [
    {
     "name": "stdout",
     "output_type": "stream",
     "text": [
      "<class 'pandas.core.frame.DataFrame'>\n",
      "Int64Index: 41368 entries, 0 to 45592\n",
      "Data columns (total 17 columns):\n",
      " #   Column                   Non-Null Count  Dtype  \n",
      "---  ------                   --------------  -----  \n",
      " 0   Delivery_person_Age      41368 non-null  object \n",
      " 1   Delivery_person_Ratings  41368 non-null  object \n",
      " 2   Weather_conditions       41368 non-null  object \n",
      " 3   Road_traffic_density     41368 non-null  object \n",
      " 4   Vehicle_condition        41368 non-null  int64  \n",
      " 5   Type_of_order            41368 non-null  object \n",
      " 6   Type_of_vehicle          41368 non-null  object \n",
      " 7   multiple_deliveries      41368 non-null  object \n",
      " 8   Festival                 41368 non-null  object \n",
      " 9   city_type                41368 non-null  object \n",
      " 10  Time_taken(min)          41368 non-null  int64  \n",
      " 11  City_code                41368 non-null  object \n",
      " 12  prepare_time             41368 non-null  float64\n",
      " 13  weekend                  41368 non-null  object \n",
      " 14  month_start              41368 non-null  object \n",
      " 15  month_end                41368 non-null  object \n",
      " 16  distance                 41368 non-null  float64\n",
      "dtypes: float64(2), int64(2), object(13)\n",
      "memory usage: 5.7+ MB\n"
     ]
    }
   ],
   "source": [
    "df.info()"
   ]
  },
  {
   "cell_type": "code",
   "execution_count": 51,
   "id": "05b326d7",
   "metadata": {},
   "outputs": [],
   "source": [
    "df.Vehicle_condition = df.Vehicle_condition.astype('object')\n",
    "df.Delivery_person_Ratings = df.Delivery_person_Ratings.astype('float64')\n",
    "df.Delivery_person_Age = df.Delivery_person_Age.astype('int')"
   ]
  },
  {
   "cell_type": "code",
   "execution_count": 52,
   "id": "470fb817",
   "metadata": {},
   "outputs": [
    {
     "data": {
      "text/plain": [
       "(41368, 17)"
      ]
     },
     "execution_count": 52,
     "metadata": {},
     "output_type": "execute_result"
    }
   ],
   "source": [
    "df.shape"
   ]
  },
  {
   "cell_type": "code",
   "execution_count": 53,
   "id": "050c3581",
   "metadata": {},
   "outputs": [],
   "source": [
    "df_num = df.select_dtypes(include=\"number\")"
   ]
  },
  {
   "cell_type": "markdown",
   "id": "da0cb1be",
   "metadata": {},
   "source": [
    "# EDA"
   ]
  },
  {
   "cell_type": "code",
   "execution_count": 54,
   "id": "1160bd10",
   "metadata": {},
   "outputs": [
    {
     "data": {
      "text/html": [
       "<div>\n",
       "<style scoped>\n",
       "    .dataframe tbody tr th:only-of-type {\n",
       "        vertical-align: middle;\n",
       "    }\n",
       "\n",
       "    .dataframe tbody tr th {\n",
       "        vertical-align: top;\n",
       "    }\n",
       "\n",
       "    .dataframe thead th {\n",
       "        text-align: right;\n",
       "    }\n",
       "</style>\n",
       "<table border=\"1\" class=\"dataframe\">\n",
       "  <thead>\n",
       "    <tr style=\"text-align: right;\">\n",
       "      <th></th>\n",
       "      <th>Delivery_person_Age</th>\n",
       "      <th>Delivery_person_Ratings</th>\n",
       "      <th>Time_taken(min)</th>\n",
       "      <th>prepare_time</th>\n",
       "      <th>distance</th>\n",
       "    </tr>\n",
       "  </thead>\n",
       "  <tbody>\n",
       "    <tr>\n",
       "      <th>count</th>\n",
       "      <td>41368.000000</td>\n",
       "      <td>41368.000000</td>\n",
       "      <td>41368.000000</td>\n",
       "      <td>41368.000000</td>\n",
       "      <td>41368.000000</td>\n",
       "    </tr>\n",
       "    <tr>\n",
       "      <th>mean</th>\n",
       "      <td>29.610013</td>\n",
       "      <td>4.633209</td>\n",
       "      <td>26.553350</td>\n",
       "      <td>9.989243</td>\n",
       "      <td>26.912076</td>\n",
       "    </tr>\n",
       "    <tr>\n",
       "      <th>std</th>\n",
       "      <td>5.764152</td>\n",
       "      <td>0.315861</td>\n",
       "      <td>9.334363</td>\n",
       "      <td>4.086094</td>\n",
       "      <td>298.782065</td>\n",
       "    </tr>\n",
       "    <tr>\n",
       "      <th>min</th>\n",
       "      <td>20.000000</td>\n",
       "      <td>2.500000</td>\n",
       "      <td>10.000000</td>\n",
       "      <td>5.000000</td>\n",
       "      <td>1.470000</td>\n",
       "    </tr>\n",
       "    <tr>\n",
       "      <th>25%</th>\n",
       "      <td>25.000000</td>\n",
       "      <td>4.500000</td>\n",
       "      <td>19.000000</td>\n",
       "      <td>5.000000</td>\n",
       "      <td>4.660000</td>\n",
       "    </tr>\n",
       "    <tr>\n",
       "      <th>50%</th>\n",
       "      <td>30.000000</td>\n",
       "      <td>4.700000</td>\n",
       "      <td>26.000000</td>\n",
       "      <td>10.000000</td>\n",
       "      <td>9.270000</td>\n",
       "    </tr>\n",
       "    <tr>\n",
       "      <th>75%</th>\n",
       "      <td>35.000000</td>\n",
       "      <td>4.900000</td>\n",
       "      <td>33.000000</td>\n",
       "      <td>15.000000</td>\n",
       "      <td>13.740000</td>\n",
       "    </tr>\n",
       "    <tr>\n",
       "      <th>max</th>\n",
       "      <td>39.000000</td>\n",
       "      <td>5.000000</td>\n",
       "      <td>54.000000</td>\n",
       "      <td>15.000000</td>\n",
       "      <td>6884.730000</td>\n",
       "    </tr>\n",
       "  </tbody>\n",
       "</table>\n",
       "</div>"
      ],
      "text/plain": [
       "       Delivery_person_Age  Delivery_person_Ratings  Time_taken(min)  \\\n",
       "count         41368.000000             41368.000000     41368.000000   \n",
       "mean             29.610013                 4.633209        26.553350   \n",
       "std               5.764152                 0.315861         9.334363   \n",
       "min              20.000000                 2.500000        10.000000   \n",
       "25%              25.000000                 4.500000        19.000000   \n",
       "50%              30.000000                 4.700000        26.000000   \n",
       "75%              35.000000                 4.900000        33.000000   \n",
       "max              39.000000                 5.000000        54.000000   \n",
       "\n",
       "       prepare_time      distance  \n",
       "count  41368.000000  41368.000000  \n",
       "mean       9.989243     26.912076  \n",
       "std        4.086094    298.782065  \n",
       "min        5.000000      1.470000  \n",
       "25%        5.000000      4.660000  \n",
       "50%       10.000000      9.270000  \n",
       "75%       15.000000     13.740000  \n",
       "max       15.000000   6884.730000  "
      ]
     },
     "execution_count": 54,
     "metadata": {},
     "output_type": "execute_result"
    }
   ],
   "source": [
    "df_num.describe()"
   ]
  },
  {
   "cell_type": "code",
   "execution_count": 57,
   "id": "6c90ef0d",
   "metadata": {},
   "outputs": [
    {
     "data": {
      "image/png": "[encoded data removed]",
      "text/plain": [
       "<Figure size 640x480 with 2 Axes>"
      ]
     },
     "metadata": {},
     "output_type": "display_data"
    }
   ],
   "source": [
    "sns.heatmap(df_num.corr(), annot=True, cmap='coolwarm');"
   ]
  },
  {
   "cell_type": "code",
   "execution_count": 58,
   "id": "7f17af97",
   "metadata": {},
   "outputs": [
    {
     "data": {
      "text/html": [
       "<div>\n",
       "<style scoped>\n",
       "    .dataframe tbody tr th:only-of-type {\n",
       "        vertical-align: middle;\n",
       "    }\n",
       "\n",
       "    .dataframe tbody tr th {\n",
       "        vertical-align: top;\n",
       "    }\n",
       "\n",
       "    .dataframe thead th {\n",
       "        text-align: right;\n",
       "    }\n",
       "</style>\n",
       "<table border=\"1\" class=\"dataframe\">\n",
       "  <thead>\n",
       "    <tr style=\"text-align: right;\">\n",
       "      <th></th>\n",
       "      <th>Delivery_person_Age</th>\n",
       "      <th>Delivery_person_Ratings</th>\n",
       "      <th>Weather_conditions</th>\n",
       "      <th>Road_traffic_density</th>\n",
       "      <th>Vehicle_condition</th>\n",
       "      <th>Type_of_order</th>\n",
       "      <th>Type_of_vehicle</th>\n",
       "      <th>multiple_deliveries</th>\n",
       "      <th>Festival</th>\n",
       "      <th>city_type</th>\n",
       "      <th>Time_taken(min)</th>\n",
       "      <th>City_code</th>\n",
       "      <th>prepare_time</th>\n",
       "      <th>weekend</th>\n",
       "      <th>month_start</th>\n",
       "      <th>month_end</th>\n",
       "      <th>distance</th>\n",
       "    </tr>\n",
       "  </thead>\n",
       "  <tbody>\n",
       "    <tr>\n",
       "      <th>0</th>\n",
       "      <td>37</td>\n",
       "      <td>4.9</td>\n",
       "      <td>Sunny</td>\n",
       "      <td>High</td>\n",
       "      <td>2</td>\n",
       "      <td>Snack</td>\n",
       "      <td>motorcycle</td>\n",
       "      <td>0</td>\n",
       "      <td>No</td>\n",
       "      <td>Urban</td>\n",
       "      <td>24</td>\n",
       "      <td>INDO</td>\n",
       "      <td>15.0</td>\n",
       "      <td>1</td>\n",
       "      <td>0</td>\n",
       "      <td>0</td>\n",
       "      <td>3.03</td>\n",
       "    </tr>\n",
       "    <tr>\n",
       "      <th>1</th>\n",
       "      <td>34</td>\n",
       "      <td>4.5</td>\n",
       "      <td>Stormy</td>\n",
       "      <td>Jam</td>\n",
       "      <td>2</td>\n",
       "      <td>Snack</td>\n",
       "      <td>scooter</td>\n",
       "      <td>1</td>\n",
       "      <td>No</td>\n",
       "      <td>Metropolitian</td>\n",
       "      <td>33</td>\n",
       "      <td>BANG</td>\n",
       "      <td>5.0</td>\n",
       "      <td>0</td>\n",
       "      <td>0</td>\n",
       "      <td>0</td>\n",
       "      <td>20.18</td>\n",
       "    </tr>\n",
       "    <tr>\n",
       "      <th>2</th>\n",
       "      <td>23</td>\n",
       "      <td>4.4</td>\n",
       "      <td>Sandstorms</td>\n",
       "      <td>Low</td>\n",
       "      <td>0</td>\n",
       "      <td>Drinks</td>\n",
       "      <td>motorcycle</td>\n",
       "      <td>1</td>\n",
       "      <td>No</td>\n",
       "      <td>Urban</td>\n",
       "      <td>26</td>\n",
       "      <td>BANG</td>\n",
       "      <td>15.0</td>\n",
       "      <td>1</td>\n",
       "      <td>0</td>\n",
       "      <td>0</td>\n",
       "      <td>1.55</td>\n",
       "    </tr>\n",
       "    <tr>\n",
       "      <th>3</th>\n",
       "      <td>38</td>\n",
       "      <td>4.7</td>\n",
       "      <td>Sunny</td>\n",
       "      <td>Medium</td>\n",
       "      <td>0</td>\n",
       "      <td>Buffet</td>\n",
       "      <td>motorcycle</td>\n",
       "      <td>1</td>\n",
       "      <td>No</td>\n",
       "      <td>Metropolitian</td>\n",
       "      <td>21</td>\n",
       "      <td>COIMB</td>\n",
       "      <td>10.0</td>\n",
       "      <td>0</td>\n",
       "      <td>0</td>\n",
       "      <td>0</td>\n",
       "      <td>7.79</td>\n",
       "    </tr>\n",
       "    <tr>\n",
       "      <th>4</th>\n",
       "      <td>32</td>\n",
       "      <td>4.6</td>\n",
       "      <td>Cloudy</td>\n",
       "      <td>High</td>\n",
       "      <td>1</td>\n",
       "      <td>Snack</td>\n",
       "      <td>scooter</td>\n",
       "      <td>1</td>\n",
       "      <td>No</td>\n",
       "      <td>Metropolitian</td>\n",
       "      <td>30</td>\n",
       "      <td>CHEN</td>\n",
       "      <td>15.0</td>\n",
       "      <td>1</td>\n",
       "      <td>0</td>\n",
       "      <td>0</td>\n",
       "      <td>6.21</td>\n",
       "    </tr>\n",
       "  </tbody>\n",
       "</table>\n",
       "</div>"
      ],
      "text/plain": [
       "   Delivery_person_Age  Delivery_person_Ratings Weather_conditions  \\\n",
       "0                   37                      4.9              Sunny   \n",
       "1                   34                      4.5             Stormy   \n",
       "2                   23                      4.4         Sandstorms   \n",
       "3                   38                      4.7              Sunny   \n",
       "4                   32                      4.6             Cloudy   \n",
       "\n",
       "  Road_traffic_density Vehicle_condition Type_of_order Type_of_vehicle  \\\n",
       "0                High                  2        Snack      motorcycle    \n",
       "1                 Jam                  2        Snack         scooter    \n",
       "2                 Low                  0       Drinks      motorcycle    \n",
       "3              Medium                  0       Buffet      motorcycle    \n",
       "4                High                  1        Snack         scooter    \n",
       "\n",
       "  multiple_deliveries Festival       city_type  Time_taken(min) City_code  \\\n",
       "0                   0      No           Urban                24      INDO   \n",
       "1                   1      No   Metropolitian                33      BANG   \n",
       "2                   1      No           Urban                26      BANG   \n",
       "3                   1      No   Metropolitian                21     COIMB   \n",
       "4                   1      No   Metropolitian                30      CHEN   \n",
       "\n",
       "   prepare_time weekend month_start month_end  distance  \n",
       "0          15.0       1           0         0      3.03  \n",
       "1           5.0       0           0         0     20.18  \n",
       "2          15.0       1           0         0      1.55  \n",
       "3          10.0       0           0         0      7.79  \n",
       "4          15.0       1           0         0      6.21  "
      ]
     },
     "execution_count": 58,
     "metadata": {},
     "output_type": "execute_result"
    }
   ],
   "source": [
    "df.head()"
   ]
  },
  {
   "cell_type": "code",
   "execution_count": 59,
   "id": "5b433864",
   "metadata": {},
   "outputs": [
    {
     "data": {
      "image/png": "[encoded data removed]",
      "text/plain": [
       "<Figure size 2000x1000 with 4 Axes>"
      ]
     },
     "metadata": {},
     "output_type": "display_data"
    }
   ],
   "source": [
    "fig, ax = plt.subplots(2, 2, figsize=(20, 10))\n",
    "ax1 = sns.histplot(x = df['city_type'], color='teal', ax= ax[0, 0])\n",
    "ax2 = sns.histplot(x = df['Festival'], color='teal', ax= ax[0, 1])\n",
    "ax3 = sns.histplot(x = df['Type_of_vehicle'], color='teal', ax= ax[1, 0])\n",
    "ax4 = sns.histplot(x = df['Type_of_order'], color='teal', ax= ax[1, 1])"
   ]
  },
  {
   "cell_type": "code",
   "execution_count": 60,
   "id": "e9b2d34d",
   "metadata": {},
   "outputs": [],
   "source": [
    "def cat_num_plot(xcol,ycol):\n",
    "    sns.set_context('notebook', font_scale = .8)\n",
    "    plt.figure(figsize=(7, 4))\n",
    "    ax = sns.barplot(x=xcol, \n",
    "                 y=ycol, \n",
    "                 palette='viridis',\n",
    "                 ci = None)\n",
    "    plt.ylabel('Time Taken');\n",
    "    \n",
    "    for p in ax.patches:\n",
    "        ax.annotate(int(p.get_height()), (p.get_x() + 0.4, p.get_height() + 1), ha = 'center', va = 'bottom', color = 'Black')"
   ]
  },
  {
   "cell_type": "code",
   "execution_count": 61,
   "id": "5d2705d2",
   "metadata": {},
   "outputs": [
    {
     "data": {
      "image/png": "[encoded data removed]",
      "text/plain": [
       "<Figure size 700x400 with 1 Axes>"
      ]
     },
     "metadata": {},
     "output_type": "display_data"
    },
    {
     "data": {
      "image/png": "[encoded data removed]",
      "text/plain": [
       "<Figure size 700x400 with 1 Axes>"
      ]
     },
     "metadata": {},
     "output_type": "display_data"
    },
    {
     "data": {
      "image/png": "[encoded data removed]",
      "text/plain": [
       "<Figure size 700x400 with 1 Axes>"
      ]
     },
     "metadata": {},
     "output_type": "display_data"
    },
    {
     "data": {
      "image/png": "[encoded data removed]",
      "text/plain": [
       "<Figure size 700x400 with 1 Axes>"
      ]
     },
     "metadata": {},
     "output_type": "display_data"
    }
   ],
   "source": [
    "cat_num_plot(df['city_type'],df['Time_taken(min)'])\n",
    "cat_num_plot(df['multiple_deliveries'],df['Time_taken(min)'])\n",
    "cat_num_plot(df['Weather_conditions'],df['Time_taken(min)'])\n",
    "cat_num_plot(df['Road_traffic_density'],df['Time_taken(min)'])"
   ]
  },
  {
   "cell_type": "code",
   "execution_count": 62,
   "id": "88ebcf39",
   "metadata": {},
   "outputs": [
    {
     "data": {
      "image/png": "[encoded data removed]",
      "text/plain": [
       "<Figure size 700x400 with 1 Axes>"
      ]
     },
     "metadata": {},
     "output_type": "display_data"
    },
    {
     "data": {
      "image/png": "[encoded data removed]",
      "text/plain": [
       "<Figure size 700x400 with 1 Axes>"
      ]
     },
     "metadata": {},
     "output_type": "display_data"
    },
    {
     "data": {
      "image/png": "[encoded data removed]",
      "text/plain": [
       "<Figure size 700x400 with 1 Axes>"
      ]
     },
     "metadata": {},
     "output_type": "display_data"
    }
   ],
   "source": [
    "cat_num_plot(df['Festival'],df['Time_taken(min)'])\n",
    "cat_num_plot(df['weekend'],df['Time_taken(min)'])\n",
    "cat_num_plot(df['month_start'],df['Time_taken(min)'])"
   ]
  },
  {
   "cell_type": "code",
   "execution_count": 63,
   "id": "fc4bb0ab",
   "metadata": {},
   "outputs": [],
   "source": [
    "#Age positively affects delivery time\n",
    "#Delivery time highest for semi-urban ares vis a vis urban and metro\n",
    "#Multiple delivers negatively affect delivery time\n",
    "#Delivery times go up during fesivals\n",
    "#Weekend doesn't affect delivery time\n",
    "#Road traffic density affects delivery time\n",
    "#Lowest delivery time during sunny, and highest delivery time during cloudy and stormy\n",
    "#Lower delivery rating leads to more delivery time"
   ]
  },
  {
   "cell_type": "code",
   "execution_count": null,
   "id": "0b6e8aeb",
   "metadata": {},
   "outputs": [],
   "source": []
  },
  {
   "cell_type": "markdown",
   "id": "de9d11b0",
   "metadata": {},
   "source": [
    "# Preparing Data"
   ]
  },
  {
   "cell_type": "code",
   "execution_count": 64,
   "id": "3dcb753b",
   "metadata": {},
   "outputs": [],
   "source": [
    "def scale_encode_data(df):\n",
    "    df_num = df.select_dtypes(include=\"number\")\n",
    "    df_cat = df.select_dtypes(include=\"object\")\n",
    "    \n",
    "    #mmscaler = MinMaxScaler()\n",
    "    #df_num_rescaled = pd.DataFrame(mmscaler.fit_transform(df_num), columns=df_num.columns)\n",
    "    \n",
    "    OHE = OneHotEncoder(drop='first')\n",
    "    df_cat_ohe = pd.DataFrame(OHE.fit_transform(df_cat).toarray(), columns=OHE.get_feature_names_out())\n",
    "    \n",
    "    df_num.reset_index(drop=True, inplace=True)\n",
    "    df_cat_ohe.reset_index(drop=True, inplace=True)\n",
    "    df_enc = pd.concat([df_num, df_cat_ohe], axis = 1)\n",
    "    \n",
    "    return df_enc"
   ]
  },
  {
   "cell_type": "code",
   "execution_count": 65,
   "id": "f23b274e",
   "metadata": {},
   "outputs": [],
   "source": [
    "df = scale_encode_data(df)"
   ]
  },
  {
   "cell_type": "code",
   "execution_count": 66,
   "id": "500155ff",
   "metadata": {},
   "outputs": [
    {
     "data": {
      "text/plain": [
       "(41368, 50)"
      ]
     },
     "execution_count": 66,
     "metadata": {},
     "output_type": "execute_result"
    }
   ],
   "source": [
    "df.shape"
   ]
  },
  {
   "cell_type": "code",
   "execution_count": 67,
   "id": "57796747",
   "metadata": {},
   "outputs": [],
   "source": [
    "X = df.drop('Time_taken(min)',axis=1)\n",
    "y = df['Time_taken(min)']"
   ]
  },
  {
   "cell_type": "code",
   "execution_count": 68,
   "id": "e8490c99",
   "metadata": {},
   "outputs": [],
   "source": [
    "X_train, X_test, y_train, y_test = train_test_split(X, y, test_size=0.2, random_state=0)"
   ]
  },
  {
   "cell_type": "code",
   "execution_count": 69,
   "id": "71d41b11",
   "metadata": {},
   "outputs": [
    {
     "data": {
      "text/plain": [
       "((33094, 49), (8274, 49))"
      ]
     },
     "execution_count": 69,
     "metadata": {},
     "output_type": "execute_result"
    }
   ],
   "source": [
    "X_train.shape, X_test.shape"
   ]
  },
  {
   "cell_type": "markdown",
   "id": "3d28f8f7",
   "metadata": {},
   "source": [
    "# Checking for Multicollenarity "
   ]
  },
  {
   "cell_type": "code",
   "execution_count": 70,
   "id": "4b06f87b",
   "metadata": {},
   "outputs": [],
   "source": [
    "X_train_ols = sm.add_constant(X_train)"
   ]
  },
  {
   "cell_type": "code",
   "execution_count": 71,
   "id": "df2fe385",
   "metadata": {},
   "outputs": [
    {
     "name": "stdout",
     "output_type": "stream",
     "text": [
      "                          Feature         VIF\n",
      "0                           const  381.813324\n",
      "1             Delivery_person_Age    1.032057\n",
      "2         Delivery_person_Ratings    1.049663\n",
      "3                    prepare_time    1.001068\n",
      "4                        distance    1.024972\n",
      "5          Weather_conditions_Fog    1.683474\n",
      "6   Weather_conditions_Sandstorms    1.685062\n",
      "7       Weather_conditions_Stormy    1.688322\n",
      "8        Weather_conditions_Sunny    1.672636\n",
      "9        Weather_conditions_Windy    1.676753\n",
      "10      Road_traffic_density_Jam     2.932892\n",
      "11      Road_traffic_density_Low     2.964998\n",
      "12   Road_traffic_density_Medium     2.646900\n",
      "13            Vehicle_condition_1    1.754518\n",
      "14            Vehicle_condition_2    2.304484\n",
      "15          Type_of_order_Drinks     1.501447\n",
      "16            Type_of_order_Meal     1.504331\n",
      "17           Type_of_order_Snack     1.504745\n",
      "18    Type_of_vehicle_motorcycle     4.727853\n",
      "19       Type_of_vehicle_scooter     3.767935\n",
      "20          multiple_deliveries_1    1.134095\n",
      "21          multiple_deliveries_2    1.188674\n",
      "22          multiple_deliveries_3    1.083966\n",
      "23                  Festival_Yes     1.067244\n",
      "24          city_type_Semi-Urban     1.040260\n",
      "25               city_type_Urban     1.022349\n",
      "26                  City_code_ALH    1.896249\n",
      "27                 City_code_AURG    1.876596\n",
      "28                 City_code_BANG    4.783368\n",
      "29                  City_code_BHP    1.871250\n",
      "30                 City_code_CHEN    4.654645\n",
      "31                City_code_COIMB    4.793815\n",
      "32                  City_code_DEH    1.885159\n",
      "33                  City_code_GOA    1.875998\n",
      "34                  City_code_HYD    4.787623\n",
      "35                 City_code_INDO    4.721724\n",
      "36                  City_code_JAP    5.024117\n",
      "37                  City_code_KNP    1.917074\n",
      "38                  City_code_KOC    1.832223\n",
      "39                  City_code_KOL    1.881469\n",
      "40                 City_code_LUDH    1.948433\n",
      "41                  City_code_MUM    4.701690\n",
      "42                  City_code_MYS    4.717653\n",
      "43                 City_code_PUNE    4.725619\n",
      "44               City_code_RANCHI    4.771343\n",
      "45                  City_code_SUR    4.757386\n",
      "46                  City_code_VAD    4.694153\n",
      "47                      weekend_1    1.032998\n",
      "48                  month_start_1    1.043328\n",
      "49                    month_end_1    1.020370\n"
     ]
    }
   ],
   "source": [
    "vif = pd.DataFrame()\n",
    "vif['Feature'] = X_train_ols.columns\n",
    "vif['VIF'] = [variance_inflation_factor(X_train_ols.values, i) for i in range(X_train_ols.shape[1])]\n",
    "\n",
    "# Print the VIF values\n",
    "print(vif)"
   ]
  },
  {
   "cell_type": "code",
   "execution_count": 72,
   "id": "f1cb0791",
   "metadata": {},
   "outputs": [],
   "source": [
    "#Multicollenarity doesn't exist as VIF <10 for all features"
   ]
  },
  {
   "cell_type": "markdown",
   "id": "0bb4f3c1",
   "metadata": {},
   "source": [
    "# Fitting Model - Linear Regression"
   ]
  },
  {
   "cell_type": "code",
   "execution_count": 73,
   "id": "9fa3dcb8",
   "metadata": {},
   "outputs": [
    {
     "data": {
      "text/plain": [
       "((33094, 49), (8274, 49))"
      ]
     },
     "execution_count": 73,
     "metadata": {},
     "output_type": "execute_result"
    }
   ],
   "source": [
    "X_train.shape, X_test.shape"
   ]
  },
  {
   "cell_type": "code",
   "execution_count": 74,
   "id": "8c7a6a7b",
   "metadata": {},
   "outputs": [],
   "source": [
    "lrmodel = sm.OLS(y_train, X_train_ols)\n",
    "results = lrmodel.fit()"
   ]
  },
  {
   "cell_type": "code",
   "execution_count": 75,
   "id": "68e52521",
   "metadata": {
    "scrolled": false
   },
   "outputs": [
    {
     "data": {
      "text/html": [
       "<table class=\"simpletable\">\n",
       "<caption>OLS Regression Results</caption>\n",
       "<tr>\n",
       "  <th>Dep. Variable:</th>     <td>Time_taken(min)</td> <th>  R-squared:         </th>  <td>   0.592</td>  \n",
       "</tr>\n",
       "<tr>\n",
       "  <th>Model:</th>                   <td>OLS</td>       <th>  Adj. R-squared:    </th>  <td>   0.591</td>  \n",
       "</tr>\n",
       "<tr>\n",
       "  <th>Method:</th>             <td>Least Squares</td>  <th>  F-statistic:       </th>  <td>   977.5</td>  \n",
       "</tr>\n",
       "<tr>\n",
       "  <th>Date:</th>             <td>Wed, 28 Jun 2023</td> <th>  Prob (F-statistic):</th>   <td>  0.00</td>   \n",
       "</tr>\n",
       "<tr>\n",
       "  <th>Time:</th>                 <td>15:25:14</td>     <th>  Log-Likelihood:    </th> <td>-1.0604e+05</td>\n",
       "</tr>\n",
       "<tr>\n",
       "  <th>No. Observations:</th>      <td> 33094</td>      <th>  AIC:               </th>  <td>2.122e+05</td> \n",
       "</tr>\n",
       "<tr>\n",
       "  <th>Df Residuals:</th>          <td> 33044</td>      <th>  BIC:               </th>  <td>2.126e+05</td> \n",
       "</tr>\n",
       "<tr>\n",
       "  <th>Df Model:</th>              <td>    49</td>      <th>                     </th>      <td> </td>     \n",
       "</tr>\n",
       "<tr>\n",
       "  <th>Covariance Type:</th>      <td>nonrobust</td>    <th>                     </th>      <td> </td>     \n",
       "</tr>\n",
       "</table>\n",
       "<table class=\"simpletable\">\n",
       "<tr>\n",
       "                <td></td>                   <th>coef</th>     <th>std err</th>      <th>t</th>      <th>P>|t|</th>  <th>[0.025</th>    <th>0.975]</th>  \n",
       "</tr>\n",
       "<tr>\n",
       "  <th>const</th>                         <td>   55.2112</td> <td>    0.641</td> <td>   86.163</td> <td> 0.000</td> <td>   53.955</td> <td>   56.467</td>\n",
       "</tr>\n",
       "<tr>\n",
       "  <th>Delivery_person_Age</th>           <td>    0.3728</td> <td>    0.006</td> <td>   64.647</td> <td> 0.000</td> <td>    0.362</td> <td>    0.384</td>\n",
       "</tr>\n",
       "<tr>\n",
       "  <th>Delivery_person_Ratings</th>       <td>   -7.5458</td> <td>    0.106</td> <td>  -71.016</td> <td> 0.000</td> <td>   -7.754</td> <td>   -7.337</td>\n",
       "</tr>\n",
       "<tr>\n",
       "  <th>prepare_time</th>                  <td>    0.0011</td> <td>    0.008</td> <td>    0.142</td> <td> 0.887</td> <td>   -0.015</td> <td>    0.017</td>\n",
       "</tr>\n",
       "<tr>\n",
       "  <th>distance</th>                      <td>-3.384e-05</td> <td>    0.000</td> <td>   -0.306</td> <td> 0.760</td> <td>   -0.000</td> <td>    0.000</td>\n",
       "</tr>\n",
       "<tr>\n",
       "  <th>Weather_conditions_Fog</th>        <td>    0.1104</td> <td>    0.113</td> <td>    0.978</td> <td> 0.328</td> <td>   -0.111</td> <td>    0.332</td>\n",
       "</tr>\n",
       "<tr>\n",
       "  <th>Weather_conditions_Sandstorms</th> <td>   -2.7195</td> <td>    0.114</td> <td>  -23.835</td> <td> 0.000</td> <td>   -2.943</td> <td>   -2.496</td>\n",
       "</tr>\n",
       "<tr>\n",
       "  <th>Weather_conditions_Stormy</th>     <td>   -2.6710</td> <td>    0.114</td> <td>  -23.497</td> <td> 0.000</td> <td>   -2.894</td> <td>   -2.448</td>\n",
       "</tr>\n",
       "<tr>\n",
       "  <th>Weather_conditions_Sunny</th>      <td>   -6.1320</td> <td>    0.115</td> <td>  -53.119</td> <td> 0.000</td> <td>   -6.358</td> <td>   -5.906</td>\n",
       "</tr>\n",
       "<tr>\n",
       "  <th>Weather_conditions_Windy</th>      <td>   -2.6160</td> <td>    0.114</td> <td>  -22.873</td> <td> 0.000</td> <td>   -2.840</td> <td>   -2.392</td>\n",
       "</tr>\n",
       "<tr>\n",
       "  <th>Road_traffic_density_Jam </th>     <td>    2.5723</td> <td>    0.121</td> <td>   21.342</td> <td> 0.000</td> <td>    2.336</td> <td>    2.809</td>\n",
       "</tr>\n",
       "<tr>\n",
       "  <th>Road_traffic_density_Low </th>     <td>   -5.4291</td> <td>    0.119</td> <td>  -45.477</td> <td> 0.000</td> <td>   -5.663</td> <td>   -5.195</td>\n",
       "</tr>\n",
       "<tr>\n",
       "  <th>Road_traffic_density_Medium </th>  <td>   -0.4676</td> <td>    0.124</td> <td>   -3.768</td> <td> 0.000</td> <td>   -0.711</td> <td>   -0.224</td>\n",
       "</tr>\n",
       "<tr>\n",
       "  <th>Vehicle_condition_1</th>           <td>   -4.5026</td> <td>    0.092</td> <td>  -48.721</td> <td> 0.000</td> <td>   -4.684</td> <td>   -4.321</td>\n",
       "</tr>\n",
       "<tr>\n",
       "  <th>Vehicle_condition_2</th>           <td>   -4.3353</td> <td>    0.106</td> <td>  -41.053</td> <td> 0.000</td> <td>   -4.542</td> <td>   -4.128</td>\n",
       "</tr>\n",
       "<tr>\n",
       "  <th>Type_of_order_Drinks </th>         <td>   -0.0070</td> <td>    0.093</td> <td>   -0.075</td> <td> 0.940</td> <td>   -0.190</td> <td>    0.175</td>\n",
       "</tr>\n",
       "<tr>\n",
       "  <th>Type_of_order_Meal </th>           <td>    0.1090</td> <td>    0.093</td> <td>    1.176</td> <td> 0.240</td> <td>   -0.073</td> <td>    0.291</td>\n",
       "</tr>\n",
       "<tr>\n",
       "  <th>Type_of_order_Snack </th>          <td>    0.1099</td> <td>    0.093</td> <td>    1.186</td> <td> 0.236</td> <td>   -0.072</td> <td>    0.292</td>\n",
       "</tr>\n",
       "<tr>\n",
       "  <th>Type_of_vehicle_motorcycle </th>   <td>    0.1495</td> <td>    0.145</td> <td>    1.033</td> <td> 0.302</td> <td>   -0.134</td> <td>    0.433</td>\n",
       "</tr>\n",
       "<tr>\n",
       "  <th>Type_of_vehicle_scooter </th>      <td>    0.2336</td> <td>    0.135</td> <td>    1.728</td> <td> 0.084</td> <td>   -0.031</td> <td>    0.498</td>\n",
       "</tr>\n",
       "<tr>\n",
       "  <th>multiple_deliveries_1</th>         <td>    2.0134</td> <td>    0.072</td> <td>   27.773</td> <td> 0.000</td> <td>    1.871</td> <td>    2.155</td>\n",
       "</tr>\n",
       "<tr>\n",
       "  <th>multiple_deliveries_2</th>         <td>    8.5595</td> <td>    0.173</td> <td>   49.563</td> <td> 0.000</td> <td>    8.221</td> <td>    8.898</td>\n",
       "</tr>\n",
       "<tr>\n",
       "  <th>multiple_deliveries_3</th>         <td>   12.4902</td> <td>    0.377</td> <td>   33.150</td> <td> 0.000</td> <td>   11.752</td> <td>   13.229</td>\n",
       "</tr>\n",
       "<tr>\n",
       "  <th>Festival_Yes </th>                 <td>    9.0712</td> <td>    0.246</td> <td>   36.846</td> <td> 0.000</td> <td>    8.589</td> <td>    9.554</td>\n",
       "</tr>\n",
       "<tr>\n",
       "  <th>city_type_Semi-Urban </th>         <td>    9.1086</td> <td>    0.556</td> <td>   16.369</td> <td> 0.000</td> <td>    8.018</td> <td>   10.199</td>\n",
       "</tr>\n",
       "<tr>\n",
       "  <th>city_type_Urban </th>              <td>   -1.9078</td> <td>    0.079</td> <td>  -24.092</td> <td> 0.000</td> <td>   -2.063</td> <td>   -1.753</td>\n",
       "</tr>\n",
       "<tr>\n",
       "  <th>City_code_ALH</th>                 <td>    0.2366</td> <td>    0.362</td> <td>    0.654</td> <td> 0.513</td> <td>   -0.472</td> <td>    0.946</td>\n",
       "</tr>\n",
       "<tr>\n",
       "  <th>City_code_AURG</th>                <td>   -0.3385</td> <td>    0.364</td> <td>   -0.930</td> <td> 0.352</td> <td>   -1.052</td> <td>    0.375</td>\n",
       "</tr>\n",
       "<tr>\n",
       "  <th>City_code_BANG</th>                <td>   -0.1790</td> <td>    0.280</td> <td>   -0.640</td> <td> 0.522</td> <td>   -0.728</td> <td>    0.370</td>\n",
       "</tr>\n",
       "<tr>\n",
       "  <th>City_code_BHP</th>                 <td>    0.3184</td> <td>    0.365</td> <td>    0.873</td> <td> 0.382</td> <td>   -0.396</td> <td>    1.033</td>\n",
       "</tr>\n",
       "<tr>\n",
       "  <th>City_code_CHEN</th>                <td>    0.0068</td> <td>    0.281</td> <td>    0.024</td> <td> 0.981</td> <td>   -0.544</td> <td>    0.558</td>\n",
       "</tr>\n",
       "<tr>\n",
       "  <th>City_code_COIMB</th>               <td>   -0.0762</td> <td>    0.280</td> <td>   -0.272</td> <td> 0.786</td> <td>   -0.625</td> <td>    0.472</td>\n",
       "</tr>\n",
       "<tr>\n",
       "  <th>City_code_DEH</th>                 <td>   -0.3914</td> <td>    0.363</td> <td>   -1.078</td> <td> 0.281</td> <td>   -1.103</td> <td>    0.320</td>\n",
       "</tr>\n",
       "<tr>\n",
       "  <th>City_code_GOA</th>                 <td>   -0.0249</td> <td>    0.364</td> <td>   -0.068</td> <td> 0.945</td> <td>   -0.738</td> <td>    0.688</td>\n",
       "</tr>\n",
       "<tr>\n",
       "  <th>City_code_HYD</th>                 <td>   -0.1074</td> <td>    0.280</td> <td>   -0.384</td> <td> 0.701</td> <td>   -0.656</td> <td>    0.441</td>\n",
       "</tr>\n",
       "<tr>\n",
       "  <th>City_code_INDO</th>                <td>   -0.1994</td> <td>    0.280</td> <td>   -0.711</td> <td> 0.477</td> <td>   -0.749</td> <td>    0.350</td>\n",
       "</tr>\n",
       "<tr>\n",
       "  <th>City_code_JAP</th>                 <td>    0.1482</td> <td>    0.278</td> <td>    0.533</td> <td> 0.594</td> <td>   -0.397</td> <td>    0.693</td>\n",
       "</tr>\n",
       "<tr>\n",
       "  <th>City_code_KNP</th>                 <td>   -0.0443</td> <td>    0.360</td> <td>   -0.123</td> <td> 0.902</td> <td>   -0.750</td> <td>    0.661</td>\n",
       "</tr>\n",
       "<tr>\n",
       "  <th>City_code_KOC</th>                 <td>    0.1756</td> <td>    0.369</td> <td>    0.476</td> <td> 0.634</td> <td>   -0.548</td> <td>    0.899</td>\n",
       "</tr>\n",
       "<tr>\n",
       "  <th>City_code_KOL</th>                 <td>   -0.2876</td> <td>    0.364</td> <td>   -0.790</td> <td> 0.430</td> <td>   -1.001</td> <td>    0.426</td>\n",
       "</tr>\n",
       "<tr>\n",
       "  <th>City_code_LUDH</th>                <td>   -0.2817</td> <td>    0.356</td> <td>   -0.790</td> <td> 0.429</td> <td>   -0.980</td> <td>    0.417</td>\n",
       "</tr>\n",
       "<tr>\n",
       "  <th>City_code_MUM</th>                 <td>   -0.2863</td> <td>    0.281</td> <td>   -1.020</td> <td> 0.308</td> <td>   -0.836</td> <td>    0.264</td>\n",
       "</tr>\n",
       "<tr>\n",
       "  <th>City_code_MYS</th>                 <td>   -0.1410</td> <td>    0.280</td> <td>   -0.503</td> <td> 0.615</td> <td>   -0.691</td> <td>    0.409</td>\n",
       "</tr>\n",
       "<tr>\n",
       "  <th>City_code_PUNE</th>                <td>    0.0432</td> <td>    0.280</td> <td>    0.154</td> <td> 0.877</td> <td>   -0.506</td> <td>    0.593</td>\n",
       "</tr>\n",
       "<tr>\n",
       "  <th>City_code_RANCHI</th>              <td>   -0.0704</td> <td>    0.280</td> <td>   -0.251</td> <td> 0.802</td> <td>   -0.619</td> <td>    0.479</td>\n",
       "</tr>\n",
       "<tr>\n",
       "  <th>City_code_SUR</th>                 <td>   -0.1423</td> <td>    0.280</td> <td>   -0.508</td> <td> 0.612</td> <td>   -0.691</td> <td>    0.407</td>\n",
       "</tr>\n",
       "<tr>\n",
       "  <th>City_code_VAD</th>                 <td>    0.0826</td> <td>    0.281</td> <td>    0.294</td> <td> 0.768</td> <td>   -0.467</td> <td>    0.633</td>\n",
       "</tr>\n",
       "<tr>\n",
       "  <th>weekend_1</th>                     <td>   -0.0688</td> <td>    0.075</td> <td>   -0.920</td> <td> 0.357</td> <td>   -0.215</td> <td>    0.078</td>\n",
       "</tr>\n",
       "<tr>\n",
       "  <th>month_start_1</th>                 <td>   -1.7215</td> <td>    0.154</td> <td>  -11.199</td> <td> 0.000</td> <td>   -2.023</td> <td>   -1.420</td>\n",
       "</tr>\n",
       "<tr>\n",
       "  <th>month_end_1</th>                   <td>    1.9077</td> <td>    0.226</td> <td>    8.430</td> <td> 0.000</td> <td>    1.464</td> <td>    2.351</td>\n",
       "</tr>\n",
       "</table>\n",
       "<table class=\"simpletable\">\n",
       "<tr>\n",
       "  <th>Omnibus:</th>       <td>302.737</td> <th>  Durbin-Watson:     </th> <td>   2.000</td>\n",
       "</tr>\n",
       "<tr>\n",
       "  <th>Prob(Omnibus):</th> <td> 0.000</td>  <th>  Jarque-Bera (JB):  </th> <td> 311.035</td>\n",
       "</tr>\n",
       "<tr>\n",
       "  <th>Skew:</th>          <td> 0.234</td>  <th>  Prob(JB):          </th> <td>2.88e-68</td>\n",
       "</tr>\n",
       "<tr>\n",
       "  <th>Kurtosis:</th>      <td> 3.077</td>  <th>  Cond. No.          </th> <td>1.10e+04</td>\n",
       "</tr>\n",
       "</table><br/><br/>Notes:<br/>[1] Standard Errors assume that the covariance matrix of the errors is correctly specified.<br/>[2] The condition number is large, 1.1e+04. This might indicate that there are<br/>strong multicollinearity or other numerical problems."
      ],
      "text/plain": [
       "<class 'statsmodels.iolib.summary.Summary'>\n",
       "\"\"\"\n",
       "                            OLS Regression Results                            \n",
       "==============================================================================\n",
       "Dep. Variable:        Time_taken(min)   R-squared:                       0.592\n",
       "Model:                            OLS   Adj. R-squared:                  0.591\n",
       "Method:                 Least Squares   F-statistic:                     977.5\n",
       "Date:                Wed, 28 Jun 2023   Prob (F-statistic):               0.00\n",
       "Time:                        15:25:14   Log-Likelihood:            -1.0604e+05\n",
       "No. Observations:               33094   AIC:                         2.122e+05\n",
       "Df Residuals:                   33044   BIC:                         2.126e+05\n",
       "Df Model:                          49                                         \n",
       "Covariance Type:            nonrobust                                         \n",
       "=================================================================================================\n",
       "                                    coef    std err          t      P>|t|      [0.025      0.975]\n",
       "-------------------------------------------------------------------------------------------------\n",
       "const                            55.2112      0.641     86.163      0.000      53.955      56.467\n",
       "Delivery_person_Age               0.3728      0.006     64.647      0.000       0.362       0.384\n",
       "Delivery_person_Ratings          -7.5458      0.106    -71.016      0.000      -7.754      -7.337\n",
       "prepare_time                      0.0011      0.008      0.142      0.887      -0.015       0.017\n",
       "distance                      -3.384e-05      0.000     -0.306      0.760      -0.000       0.000\n",
       "Weather_conditions_Fog            0.1104      0.113      0.978      0.328      -0.111       0.332\n",
       "Weather_conditions_Sandstorms    -2.7195      0.114    -23.835      0.000      -2.943      -2.496\n",
       "Weather_conditions_Stormy        -2.6710      0.114    -23.497      0.000      -2.894      -2.448\n",
       "Weather_conditions_Sunny         -6.1320      0.115    -53.119      0.000      -6.358      -5.906\n",
       "Weather_conditions_Windy         -2.6160      0.114    -22.873      0.000      -2.840      -2.392\n",
       "Road_traffic_density_Jam          2.5723      0.121     21.342      0.000       2.336       2.809\n",
       "Road_traffic_density_Low         -5.4291      0.119    -45.477      0.000      -5.663      -5.195\n",
       "Road_traffic_density_Medium      -0.4676      0.124     -3.768      0.000      -0.711      -0.224\n",
       "Vehicle_condition_1              -4.5026      0.092    -48.721      0.000      -4.684      -4.321\n",
       "Vehicle_condition_2              -4.3353      0.106    -41.053      0.000      -4.542      -4.128\n",
       "Type_of_order_Drinks             -0.0070      0.093     -0.075      0.940      -0.190       0.175\n",
       "Type_of_order_Meal                0.1090      0.093      1.176      0.240      -0.073       0.291\n",
       "Type_of_order_Snack               0.1099      0.093      1.186      0.236      -0.072       0.292\n",
       "Type_of_vehicle_motorcycle        0.1495      0.145      1.033      0.302      -0.134       0.433\n",
       "Type_of_vehicle_scooter           0.2336      0.135      1.728      0.084      -0.031       0.498\n",
       "multiple_deliveries_1             2.0134      0.072     27.773      0.000       1.871       2.155\n",
       "multiple_deliveries_2             8.5595      0.173     49.563      0.000       8.221       8.898\n",
       "multiple_deliveries_3            12.4902      0.377     33.150      0.000      11.752      13.229\n",
       "Festival_Yes                      9.0712      0.246     36.846      0.000       8.589       9.554\n",
       "city_type_Semi-Urban              9.1086      0.556     16.369      0.000       8.018      10.199\n",
       "city_type_Urban                  -1.9078      0.079    -24.092      0.000      -2.063      -1.753\n",
       "City_code_ALH                     0.2366      0.362      0.654      0.513      -0.472       0.946\n",
       "City_code_AURG                   -0.3385      0.364     -0.930      0.352      -1.052       0.375\n",
       "City_code_BANG                   -0.1790      0.280     -0.640      0.522      -0.728       0.370\n",
       "City_code_BHP                     0.3184      0.365      0.873      0.382      -0.396       1.033\n",
       "City_code_CHEN                    0.0068      0.281      0.024      0.981      -0.544       0.558\n",
       "City_code_COIMB                  -0.0762      0.280     -0.272      0.786      -0.625       0.472\n",
       "City_code_DEH                    -0.3914      0.363     -1.078      0.281      -1.103       0.320\n",
       "City_code_GOA                    -0.0249      0.364     -0.068      0.945      -0.738       0.688\n",
       "City_code_HYD                    -0.1074      0.280     -0.384      0.701      -0.656       0.441\n",
       "City_code_INDO                   -0.1994      0.280     -0.711      0.477      -0.749       0.350\n",
       "City_code_JAP                     0.1482      0.278      0.533      0.594      -0.397       0.693\n",
       "City_code_KNP                    -0.0443      0.360     -0.123      0.902      -0.750       0.661\n",
       "City_code_KOC                     0.1756      0.369      0.476      0.634      -0.548       0.899\n",
       "City_code_KOL                    -0.2876      0.364     -0.790      0.430      -1.001       0.426\n",
       "City_code_LUDH                   -0.2817      0.356     -0.790      0.429      -0.980       0.417\n",
       "City_code_MUM                    -0.2863      0.281     -1.020      0.308      -0.836       0.264\n",
       "City_code_MYS                    -0.1410      0.280     -0.503      0.615      -0.691       0.409\n",
       "City_code_PUNE                    0.0432      0.280      0.154      0.877      -0.506       0.593\n",
       "City_code_RANCHI                 -0.0704      0.280     -0.251      0.802      -0.619       0.479\n",
       "City_code_SUR                    -0.1423      0.280     -0.508      0.612      -0.691       0.407\n",
       "City_code_VAD                     0.0826      0.281      0.294      0.768      -0.467       0.633\n",
       "weekend_1                        -0.0688      0.075     -0.920      0.357      -0.215       0.078\n",
       "month_start_1                    -1.7215      0.154    -11.199      0.000      -2.023      -1.420\n",
       "month_end_1                       1.9077      0.226      8.430      0.000       1.464       2.351\n",
       "==============================================================================\n",
       "Omnibus:                      302.737   Durbin-Watson:                   2.000\n",
       "Prob(Omnibus):                  0.000   Jarque-Bera (JB):              311.035\n",
       "Skew:                           0.234   Prob(JB):                     2.88e-68\n",
       "Kurtosis:                       3.077   Cond. No.                     1.10e+04\n",
       "==============================================================================\n",
       "\n",
       "Notes:\n",
       "[1] Standard Errors assume that the covariance matrix of the errors is correctly specified.\n",
       "[2] The condition number is large, 1.1e+04. This might indicate that there are\n",
       "strong multicollinearity or other numerical problems.\n",
       "\"\"\""
      ]
     },
     "execution_count": 75,
     "metadata": {},
     "output_type": "execute_result"
    }
   ],
   "source": [
    "results.summary()"
   ]
  },
  {
   "cell_type": "code",
   "execution_count": 87,
   "id": "67da78bc",
   "metadata": {},
   "outputs": [
    {
     "name": "stdout",
     "output_type": "stream",
     "text": [
      "train mape: 0.20694244261403097\n",
      "test mape: 0.20759315680179244\n",
      "train rmse: 5.961079379229259\n",
      "test rmse: 5.966627935523831\n"
     ]
    }
   ],
   "source": [
    "lrmodel = LinearRegression()\n",
    "lrmodel.fit(X_train,y_train)\n",
    "yhat_train = lrmodel.predict(X_train)\n",
    "yhat_test = lrmodel.predict(X_test)\n",
    "\n",
    "train_mape = mape(y_train,yhat_train)\n",
    "test_mape = mape(y_test,yhat_test)\n",
    "train_rmse = np.sqrt(mean_squared_error(y_train,yhat_train))\n",
    "test_rmse = np.sqrt(mean_squared_error(y_test,yhat_test))\n",
    "\n",
    "print('train mape:', train_mape)\n",
    "print('test mape:', test_mape)\n",
    "print('train rmse:', train_rmse)\n",
    "print('test rmse:', test_rmse)"
   ]
  },
  {
   "cell_type": "code",
   "execution_count": 81,
   "id": "369e93fe",
   "metadata": {},
   "outputs": [],
   "source": [
    "from mlxtend.feature_selection import SequentialFeatureSelector\n",
    "\n",
    "lrmodel = LinearRegression()\n",
    "selector = SequentialFeatureSelector(lrmodel, k_features='best', forward=True, scoring='r2', cv=3)\n",
    "selector.fit(X_train, y_train)\n",
    "selected_feature_indices = selector.k_feature_idx_\n",
    "selected_features = X.columns[list(selected_feature_indices)]"
   ]
  },
  {
   "cell_type": "code",
   "execution_count": 83,
   "id": "bf65fd31",
   "metadata": {},
   "outputs": [
    {
     "data": {
      "text/plain": [
       "(Index(['Delivery_person_Age', 'Delivery_person_Ratings',\n",
       "        'Weather_conditions_Fog', 'Weather_conditions_Sandstorms',\n",
       "        'Weather_conditions_Stormy', 'Weather_conditions_Sunny',\n",
       "        'Weather_conditions_Windy', 'Road_traffic_density_Jam ',\n",
       "        'Road_traffic_density_Low ', 'Road_traffic_density_Medium ',\n",
       "        'Vehicle_condition_1', 'Vehicle_condition_2',\n",
       "        'Type_of_vehicle_motorcycle ', 'Type_of_vehicle_scooter ',\n",
       "        'multiple_deliveries_1', 'multiple_deliveries_2',\n",
       "        'multiple_deliveries_3', 'Festival_Yes ', 'city_type_Semi-Urban ',\n",
       "        'city_type_Urban ', 'City_code_ALH', 'City_code_AURG', 'City_code_DEH',\n",
       "        'City_code_JAP', 'City_code_KOC', 'City_code_LUDH', 'City_code_MUM',\n",
       "        'City_code_VAD', 'month_start_1', 'month_end_1'],\n",
       "       dtype='object'),\n",
       " 30)"
      ]
     },
     "execution_count": 83,
     "metadata": {},
     "output_type": "execute_result"
    }
   ],
   "source": [
    "selected_features, len(selected_features)"
   ]
  },
  {
   "cell_type": "code",
   "execution_count": 84,
   "id": "bf94c1ec",
   "metadata": {},
   "outputs": [],
   "source": [
    "X_train_filtered = X_train[selected_features]\n",
    "X_test_filtered = X_test[selected_features]"
   ]
  },
  {
   "cell_type": "code",
   "execution_count": 88,
   "id": "faebdca8",
   "metadata": {},
   "outputs": [
    {
     "name": "stdout",
     "output_type": "stream",
     "text": [
      "train mape: 0.20699988641399325\n",
      "test mape: 0.2075276849137359\n",
      "train rmse: 5.962032643197058\n",
      "test rmse: 5.964211323154455\n"
     ]
    }
   ],
   "source": [
    "lrmodel = LinearRegression()\n",
    "lrmodel.fit(X_train_filtered,y_train)\n",
    "yhat_train = lrmodel.predict(X_train_filtered)\n",
    "yhat_test = lrmodel.predict(X_test_filtered)\n",
    "\n",
    "train_mape = mape(y_train,yhat_train)\n",
    "test_mape = mape(y_test,yhat_test)\n",
    "train_rmse = np.sqrt(mean_squared_error(y_train,yhat_train))\n",
    "test_rmse = np.sqrt(mean_squared_error(y_test,yhat_test))\n",
    "\n",
    "print('train mape:', train_mape)\n",
    "print('test mape:', test_mape)\n",
    "print('train rmse:', train_rmse)\n",
    "print('test rmse:', test_rmse)"
   ]
  },
  {
   "cell_type": "markdown",
   "id": "51b4d61a",
   "metadata": {},
   "source": [
    "# Random Forest"
   ]
  },
  {
   "cell_type": "code",
   "execution_count": 90,
   "id": "51f01076",
   "metadata": {},
   "outputs": [
    {
     "name": "stdout",
     "output_type": "stream",
     "text": [
      "train mape: 0.049410858922192054\n",
      "test mape: 0.1330082582296735\n",
      "train rmse: 1.4627929521679337\n",
      "test rmse: 3.880247058363744\n"
     ]
    }
   ],
   "source": [
    "rf_model = RandomForestRegressor()\n",
    "rf_model.fit(X_train, y_train)\n",
    "yhat_train = rf_model.predict(X_train)\n",
    "yhat_test = rf_model.predict(X_test)\n",
    "\n",
    "train_mape = mape(y_train,yhat_train)\n",
    "test_mape = mape(y_test,yhat_test)\n",
    "train_rmse = np.sqrt(mean_squared_error(y_train,yhat_train))\n",
    "test_rmse = np.sqrt(mean_squared_error(y_test,yhat_test))\n",
    "\n",
    "print('train mape:', train_mape)\n",
    "print('test mape:', test_mape)\n",
    "print('train rmse:', train_rmse)\n",
    "print('test rmse:', test_rmse)"
   ]
  },
  {
   "cell_type": "code",
   "execution_count": 96,
   "id": "e778e8e1",
   "metadata": {},
   "outputs": [],
   "source": [
    "from sklearn.metrics import mean_absolute_error, make_scorer\n",
    "\n",
    "rf_model = RandomForestRegressor(random_state=42,n_estimators=50)\n",
    "scorer = make_scorer(mean_absolute_error, greater_is_better=False)\n",
    "selector = SequentialFeatureSelector(rf_model, k_features='best', forward=True, scoring=scorer, cv=3,n_jobs=-1)\n",
    "selector.fit(X_train, y_train)\n",
    "selected_feature_indices = selector.k_feature_idx_\n",
    "selected_features = X.columns[list(selected_feature_indices)]"
   ]
  },
  {
   "cell_type": "code",
   "execution_count": 98,
   "id": "84c590ca",
   "metadata": {},
   "outputs": [
    {
     "data": {
      "text/plain": [
       "(Index(['Delivery_person_Age', 'Delivery_person_Ratings', 'prepare_time',\n",
       "        'distance', 'Weather_conditions_Fog', 'Weather_conditions_Sandstorms',\n",
       "        'Weather_conditions_Stormy', 'Weather_conditions_Sunny',\n",
       "        'Weather_conditions_Windy', 'Road_traffic_density_Low ',\n",
       "        'Road_traffic_density_Medium ', 'Vehicle_condition_1',\n",
       "        'Vehicle_condition_2', 'Type_of_order_Drinks ', 'Type_of_order_Meal ',\n",
       "        'Type_of_vehicle_motorcycle ', 'Type_of_vehicle_scooter ',\n",
       "        'multiple_deliveries_1', 'multiple_deliveries_2',\n",
       "        'multiple_deliveries_3', 'Festival_Yes ', 'city_type_Semi-Urban ',\n",
       "        'City_code_ALH', 'City_code_AURG', 'City_code_BANG', 'City_code_DEH',\n",
       "        'City_code_HYD', 'City_code_KOC', 'City_code_KOL', 'City_code_LUDH',\n",
       "        'City_code_MUM', 'City_code_RANCHI', 'City_code_VAD', 'weekend_1',\n",
       "        'month_start_1', 'month_end_1'],\n",
       "       dtype='object'),\n",
       " 36)"
      ]
     },
     "execution_count": 98,
     "metadata": {},
     "output_type": "execute_result"
    }
   ],
   "source": [
    "selected_features, len(selected_features)"
   ]
  },
  {
   "cell_type": "code",
   "execution_count": 99,
   "id": "14474a5b",
   "metadata": {},
   "outputs": [],
   "source": [
    "X_train_filtered = X_train[selected_features]\n",
    "X_test_filtered = X_test[selected_features]"
   ]
  },
  {
   "cell_type": "raw",
   "id": "18fc7c8b",
   "metadata": {},
   "source": [
    "RandomForest - Initiating Randomized CV"
   ]
  },
  {
   "cell_type": "code",
   "execution_count": 108,
   "id": "a21456ce",
   "metadata": {},
   "outputs": [
    {
     "name": "stdout",
     "output_type": "stream",
     "text": [
      "Best Parameters: {'n_estimators': 429, 'min_samples_split': 18, 'min_samples_leaf': 5, 'max_depth': 16}\n"
     ]
    }
   ],
   "source": [
    "from random import randint\n",
    "from sklearn.model_selection import RandomizedSearchCV\n",
    "\n",
    "param_grid = {\n",
    "    'n_estimators': [randint(50, 500)],\n",
    "    'max_depth': [randint(3, 100)],\n",
    "    'min_samples_split': [randint(2, 50)],\n",
    "    'min_samples_leaf': [randint(1, 50)],\n",
    "}\n",
    "\n",
    "rf_model = RandomForestRegressor(random_state=42)\n",
    "scorer = make_scorer(mean_absolute_error, greater_is_better=False)\n",
    "random_search = RandomizedSearchCV(rf_model, param_distributions=param_grid,scoring=scorer, n_iter=15, cv=3)\n",
    "random_search.fit(X_train_filtered, y_train)\n",
    "print(\"Best Parameters:\", random_search.best_params_)"
   ]
  },
  {
   "cell_type": "code",
   "execution_count": null,
   "id": "7ec2309f",
   "metadata": {},
   "outputs": [],
   "source": [
    "Using the Best Model"
   ]
  },
  {
   "cell_type": "code",
   "execution_count": 109,
   "id": "2e34d288",
   "metadata": {},
   "outputs": [
    {
     "name": "stdout",
     "output_type": "stream",
     "text": [
      "train mape: 0.10732850140092041\n",
      "test mape: 0.13087336143188982\n",
      "train rmse: 3.1599034332710754\n",
      "test rmse: 3.7765262880673967\n"
     ]
    }
   ],
   "source": [
    "best_rf_model = RandomForestRegressor(**random_search.best_params_)\n",
    "best_rf_model.fit(X_train_filtered, y_train)\n",
    "yhat_train = best_rf_model.predict(X_train_filtered)\n",
    "yhat_test = best_rf_model.predict(X_test_filtered)\n",
    "\n",
    "train_mape = mape(y_train,yhat_train)\n",
    "test_mape = mape(y_test,yhat_test)\n",
    "train_rmse = np.sqrt(mean_squared_error(y_train,yhat_train))\n",
    "test_rmse = np.sqrt(mean_squared_error(y_test,yhat_test))\n",
    "\n",
    "print('train mape:', train_mape)\n",
    "print('test mape:', test_mape)\n",
    "print('train rmse:', train_rmse)\n",
    "print('test rmse:', test_rmse)"
   ]
  },
  {
   "cell_type": "markdown",
   "id": "b6fdb9ef",
   "metadata": {},
   "source": [
    "# KNN"
   ]
  },
  {
   "cell_type": "code",
   "execution_count": 110,
   "id": "fc9c0ebf",
   "metadata": {},
   "outputs": [
    {
     "data": {
      "text/plain": [
       "0.13087336143188982"
      ]
     },
     "execution_count": 110,
     "metadata": {},
     "output_type": "execute_result"
    }
   ],
   "source": [
    "from sklearn.neighbors import KNeighborsRegressor\n",
    "knn = KNeighborsRegressor(n_neighbors=5)\n",
    "knn.fit(X_train, y_train)\n",
    "y_pred = knn.predict(X_test)\n",
    "mape(y_test,yhat_test)"
   ]
  },
  {
   "cell_type": "code",
   "execution_count": 113,
   "id": "b8374676",
   "metadata": {},
   "outputs": [
    {
     "name": "stdout",
     "output_type": "stream",
     "text": [
      "Best Parameters: {'n_neighbors': 7, 'p': 1, 'weights': 'distance'}\n",
      "Best Score: 0.558094393992432\n"
     ]
    }
   ],
   "source": [
    "from sklearn.model_selection import GridSearchCV\n",
    "param_grid = {\n",
    "    'n_neighbors': [3, 5, 7],\n",
    "    'weights': ['uniform', 'distance'],\n",
    "    'p': [1, 2]\n",
    "}\n",
    "\n",
    "# Create the KNN regressor object\n",
    "knn = KNeighborsRegressor()\n",
    "\n",
    "# Perform grid search\n",
    "grid_search = GridSearchCV(knn, param_grid, cv=3)\n",
    "grid_search.fit(X_train, y_train)\n",
    "\n",
    "# Print the best parameters and best score\n",
    "print(\"Best Parameters:\", grid_search.best_params_)\n",
    "print(\"Best Score:\", grid_search.best_score_)"
   ]
  },
  {
   "cell_type": "code",
   "execution_count": 114,
   "id": "a6783826",
   "metadata": {},
   "outputs": [
    {
     "name": "stdout",
     "output_type": "stream",
     "text": [
      "train mape: 4.8435843677152994e-05\n",
      "test mape: 0.20848937734304654\n",
      "train rmse: 0.07646555646773327\n",
      "test rmse: 6.084452888951712\n"
     ]
    }
   ],
   "source": [
    "knn = KNeighborsRegressor(**grid_search.best_params_)\n",
    "knn.fit(X_train, y_train)\n",
    "yhat_train = knn.predict(X_train)\n",
    "yhat_test = knn.predict(X_test)\n",
    "\n",
    "train_mape = mape(y_train,yhat_train)\n",
    "test_mape = mape(y_test,yhat_test)\n",
    "train_rmse = np.sqrt(mean_squared_error(y_train,yhat_train))\n",
    "test_rmse = np.sqrt(mean_squared_error(y_test,yhat_test))\n",
    "\n",
    "print('train mape:', train_mape)\n",
    "print('test mape:', test_mape)\n",
    "print('train rmse:', train_rmse)\n",
    "print('test rmse:', test_rmse)"
   ]
  },
  {
   "cell_type": "code",
   "execution_count": null,
   "id": "df647791",
   "metadata": {},
   "outputs": [],
   "source": []
  }
 ],
 "metadata": {
  "kernelspec": {
   "display_name": "Python 3 (ipykernel)",
   "language": "python",
   "name": "python3"
  },
  "language_info": {
   "codemirror_mode": {
    "name": "ipython",
    "version": 3
   },
   "file_extension": ".py",
   "mimetype": "text/x-python",
   "name": "python",
   "nbconvert_exporter": "python",
   "pygments_lexer": "ipython3",
   "version": "3.9.13"
  }
 },
 "nbformat": 4,
 "nbformat_minor": 5
}
